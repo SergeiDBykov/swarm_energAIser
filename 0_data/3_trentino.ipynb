{
 "cells": [
  {
   "cell_type": "code",
   "execution_count": 1,
   "metadata": {},
   "outputs": [],
   "source": [
    "import sys\n",
    "sys.path.append('../')"
   ]
  },
  {
   "cell_type": "code",
   "execution_count": 2,
   "metadata": {},
   "outputs": [
    {
     "name": "stdout",
     "output_type": "stream",
     "text": [
      "matplotlib settings set\n",
      "matplotlib settings set\n"
     ]
    }
   ],
   "source": [
    "from scripts.utils import data_path, set_mpl\n",
    "import pandas as pd\n",
    "import numpy as np\n",
    "import matplotlib.pyplot as plt\n",
    "import seaborn as sns\n",
    "from IPython.display import display\n",
    "import glob\n",
    "from tqdm import tqdm\n",
    "import datetime\n",
    "\n",
    "\n",
    "%matplotlib inline\n",
    "\n",
    "set_mpl()"
   ]
  },
  {
   "cell_type": "code",
   "execution_count": 143,
   "metadata": {},
   "outputs": [],
   "source": [
    "locations = pd.read_csv(data_path + 'Trentino_orig/line.csv')\n",
    "#assign types [int, str, int]\n",
    "locations.SQUAREID = locations.SQUAREID.astype(int)\n",
    "locations.NR_UBICAZIONI = locations.NR_UBICAZIONI.astype(int)\n",
    "locations.LINESET = locations.LINESET.astype(str)\n",
    "locations = locations.set_index('SQUAREID')\n",
    "\n",
    "energy_1 = pd.read_csv(data_path + 'Trentino_orig/SET-nov-2013.csv', names=['line', 'date', 'value'], parse_dates=['date'])\n",
    "energy_2 = pd.read_csv(data_path + 'Trentino_orig/SET-dec-2013.csv', names=['line', 'date', 'value'], parse_dates=['date'])\n",
    "\n",
    "energy = pd.concat([energy_1, energy_2])\n",
    "\n",
    "energy = energy.pivot(index='date', columns='line', values='value')\n",
    "energy = energy.resample('1H').mean()\n",
    "energy.index = pd.to_datetime(energy.index)\n",
    "\n",
    "\n",
    "locations.to_csv(data_path + 'Trentino_drive/line_location.csv')\n",
    "energy.to_csv(data_path + 'Trentino_drive/line_energy.csv')"
   ]
  },
  {
   "cell_type": "code",
   "execution_count": 146,
   "metadata": {},
   "outputs": [
    {
     "data": {
      "text/plain": [
       "DatetimeIndex(['2013-11-01 00:00:00', '2013-11-01 01:00:00',\n",
       "               '2013-11-01 02:00:00', '2013-11-01 03:00:00',\n",
       "               '2013-11-01 04:00:00', '2013-11-01 05:00:00',\n",
       "               '2013-11-01 06:00:00', '2013-11-01 07:00:00',\n",
       "               '2013-11-01 08:00:00', '2013-11-01 09:00:00',\n",
       "               ...\n",
       "               '2013-12-31 14:00:00', '2013-12-31 15:00:00',\n",
       "               '2013-12-31 16:00:00', '2013-12-31 17:00:00',\n",
       "               '2013-12-31 18:00:00', '2013-12-31 19:00:00',\n",
       "               '2013-12-31 20:00:00', '2013-12-31 21:00:00',\n",
       "               '2013-12-31 22:00:00', '2013-12-31 23:00:00'],\n",
       "              dtype='datetime64[ns]', name='date', length=1464, freq='H')"
      ]
     },
     "execution_count": 146,
     "metadata": {},
     "output_type": "execute_result"
    }
   ],
   "source": [
    "energy.index"
   ]
  },
  {
   "cell_type": "code",
   "execution_count": 118,
   "metadata": {},
   "outputs": [
    {
     "name": "stderr",
     "output_type": "stream",
     "text": [
      "100%|██████████| 62/62 [12:28<00:00, 12.07s/it]\n"
     ]
    },
    {
     "data": {
      "text/html": [
       "<div>\n",
       "<style scoped>\n",
       "    .dataframe tbody tr th:only-of-type {\n",
       "        vertical-align: middle;\n",
       "    }\n",
       "\n",
       "    .dataframe tbody tr th {\n",
       "        vertical-align: top;\n",
       "    }\n",
       "\n",
       "    .dataframe thead th {\n",
       "        text-align: right;\n",
       "    }\n",
       "</style>\n",
       "<table border=\"1\" class=\"dataframe\">\n",
       "  <thead>\n",
       "    <tr style=\"text-align: right;\">\n",
       "      <th></th>\n",
       "      <th>CellID</th>\n",
       "      <th>smsin</th>\n",
       "      <th>smsout</th>\n",
       "      <th>callin</th>\n",
       "      <th>callout</th>\n",
       "      <th>internet</th>\n",
       "    </tr>\n",
       "    <tr>\n",
       "      <th>datetime</th>\n",
       "      <th></th>\n",
       "      <th></th>\n",
       "      <th></th>\n",
       "      <th></th>\n",
       "      <th></th>\n",
       "      <th></th>\n",
       "    </tr>\n",
       "  </thead>\n",
       "  <tbody>\n",
       "    <tr>\n",
       "      <th>2014-01-01 00:00:00</th>\n",
       "      <td>10000</td>\n",
       "      <td>8.600870</td>\n",
       "      <td>13.861839</td>\n",
       "      <td>1.721833</td>\n",
       "      <td>3.424444</td>\n",
       "      <td>25.972920</td>\n",
       "    </tr>\n",
       "    <tr>\n",
       "      <th>2014-01-01 00:10:00</th>\n",
       "      <td>10000</td>\n",
       "      <td>8.227030</td>\n",
       "      <td>10.316980</td>\n",
       "      <td>2.125995</td>\n",
       "      <td>2.816777</td>\n",
       "      <td>22.230596</td>\n",
       "    </tr>\n",
       "    <tr>\n",
       "      <th>2014-01-01 00:20:00</th>\n",
       "      <td>10000</td>\n",
       "      <td>8.381257</td>\n",
       "      <td>5.646549</td>\n",
       "      <td>0.711157</td>\n",
       "      <td>1.277453</td>\n",
       "      <td>21.875093</td>\n",
       "    </tr>\n",
       "    <tr>\n",
       "      <th>2014-01-01 00:30:00</th>\n",
       "      <td>10000</td>\n",
       "      <td>7.217623</td>\n",
       "      <td>6.477903</td>\n",
       "      <td>0.678512</td>\n",
       "      <td>0.791203</td>\n",
       "      <td>24.124814</td>\n",
       "    </tr>\n",
       "    <tr>\n",
       "      <th>2014-01-01 00:40:00</th>\n",
       "      <td>10000</td>\n",
       "      <td>5.902213</td>\n",
       "      <td>3.109369</td>\n",
       "      <td>0.285036</td>\n",
       "      <td>0.292545</td>\n",
       "      <td>26.145020</td>\n",
       "    </tr>\n",
       "    <tr>\n",
       "      <th>...</th>\n",
       "      <td>...</td>\n",
       "      <td>...</td>\n",
       "      <td>...</td>\n",
       "      <td>...</td>\n",
       "      <td>...</td>\n",
       "      <td>...</td>\n",
       "    </tr>\n",
       "    <tr>\n",
       "      <th>2013-12-14 23:10:00</th>\n",
       "      <td>9999</td>\n",
       "      <td>0.289531</td>\n",
       "      <td>0.794115</td>\n",
       "      <td>0.156907</td>\n",
       "      <td>0.124489</td>\n",
       "      <td>16.734552</td>\n",
       "    </tr>\n",
       "    <tr>\n",
       "      <th>2013-12-14 23:20:00</th>\n",
       "      <td>9999</td>\n",
       "      <td>0.512851</td>\n",
       "      <td>0.806388</td>\n",
       "      <td>0.033362</td>\n",
       "      <td>NaN</td>\n",
       "      <td>17.700052</td>\n",
       "    </tr>\n",
       "    <tr>\n",
       "      <th>2013-12-14 23:30:00</th>\n",
       "      <td>9999</td>\n",
       "      <td>0.277126</td>\n",
       "      <td>0.690069</td>\n",
       "      <td>0.123545</td>\n",
       "      <td>0.158211</td>\n",
       "      <td>16.624514</td>\n",
       "    </tr>\n",
       "    <tr>\n",
       "      <th>2013-12-14 23:40:00</th>\n",
       "      <td>9999</td>\n",
       "      <td>0.440828</td>\n",
       "      <td>0.812000</td>\n",
       "      <td>0.082993</td>\n",
       "      <td>0.033362</td>\n",
       "      <td>16.757242</td>\n",
       "    </tr>\n",
       "    <tr>\n",
       "      <th>2013-12-14 23:50:00</th>\n",
       "      <td>9999</td>\n",
       "      <td>0.599708</td>\n",
       "      <td>0.677401</td>\n",
       "      <td>0.194407</td>\n",
       "      <td>0.322091</td>\n",
       "      <td>14.201649</td>\n",
       "    </tr>\n",
       "  </tbody>\n",
       "</table>\n",
       "<p>17650780 rows × 6 columns</p>\n",
       "</div>"
      ],
      "text/plain": [
       "                     CellID     smsin     smsout    callin   callout  \\\n",
       "datetime                                                               \n",
       "2014-01-01 00:00:00   10000  8.600870  13.861839  1.721833  3.424444   \n",
       "2014-01-01 00:10:00   10000  8.227030  10.316980  2.125995  2.816777   \n",
       "2014-01-01 00:20:00   10000  8.381257   5.646549  0.711157  1.277453   \n",
       "2014-01-01 00:30:00   10000  7.217623   6.477903  0.678512  0.791203   \n",
       "2014-01-01 00:40:00   10000  5.902213   3.109369  0.285036  0.292545   \n",
       "...                     ...       ...        ...       ...       ...   \n",
       "2013-12-14 23:10:00    9999  0.289531   0.794115  0.156907  0.124489   \n",
       "2013-12-14 23:20:00    9999  0.512851   0.806388  0.033362       NaN   \n",
       "2013-12-14 23:30:00    9999  0.277126   0.690069  0.123545  0.158211   \n",
       "2013-12-14 23:40:00    9999  0.440828   0.812000  0.082993  0.033362   \n",
       "2013-12-14 23:50:00    9999  0.599708   0.677401  0.194407  0.322091   \n",
       "\n",
       "                      internet  \n",
       "datetime                        \n",
       "2014-01-01 00:00:00  25.972920  \n",
       "2014-01-01 00:10:00  22.230596  \n",
       "2014-01-01 00:20:00  21.875093  \n",
       "2014-01-01 00:30:00  24.124814  \n",
       "2014-01-01 00:40:00  26.145020  \n",
       "...                        ...  \n",
       "2013-12-14 23:10:00  16.734552  \n",
       "2013-12-14 23:20:00  17.700052  \n",
       "2013-12-14 23:30:00  16.624514  \n",
       "2013-12-14 23:40:00  16.757242  \n",
       "2013-12-14 23:50:00  14.201649  \n",
       "\n",
       "[17650780 rows x 6 columns]"
      ]
     },
     "execution_count": 118,
     "metadata": {},
     "output_type": "execute_result"
    }
   ],
   "source": [
    "#from plot.py by paper authors\n",
    "parse = lambda x: datetime.datetime.fromtimestamp(float(x)/1000)\n",
    "\n",
    "filelist =  glob.glob(data_path + 'Trentino_orig/telecom/*.txt')\n",
    "\n",
    "aux_data = []\n",
    "\n",
    "for file in tqdm(filelist[:]):\n",
    "    aux = pd.read_csv(file, sep='\\t', encoding=\"utf-8-sig\", names=['CellID', 'datetime', 'countrycode', 'smsin', \n",
    "    'smsout', 'callin', 'callout', 'internet'], parse_dates=['datetime'], date_parser=parse)\n",
    "    aux = aux.query('CellID in @locations.index & countrycode==39')\n",
    "    aux.set_index('datetime', inplace=True)\n",
    "    aux.drop('countrycode', axis=1, inplace=True)\n",
    "    aux_data.append(aux)\n",
    "\n",
    "aux_data = pd.concat(aux_data)\n",
    "aux_data.sort_index(inplace=True)\n",
    "\n",
    "aux_data"
   ]
  },
  {
   "cell_type": "code",
   "execution_count": 147,
   "metadata": {},
   "outputs": [
    {
     "data": {
      "text/plain": [
       "DatetimeIndex(['2013-11-01 00:00:00', '2013-11-01 00:00:00',\n",
       "               '2013-11-01 00:00:00', '2013-11-01 00:00:00',\n",
       "               '2013-11-01 00:00:00', '2013-11-01 00:00:00',\n",
       "               '2013-11-01 00:00:00', '2013-11-01 00:00:00',\n",
       "               '2013-11-01 00:00:00', '2013-11-01 00:00:00',\n",
       "               ...\n",
       "               '2014-01-01 23:50:00', '2014-01-01 23:50:00',\n",
       "               '2014-01-01 23:50:00', '2014-01-01 23:50:00',\n",
       "               '2014-01-01 23:50:00', '2014-01-01 23:50:00',\n",
       "               '2014-01-01 23:50:00', '2014-01-01 23:50:00',\n",
       "               '2014-01-01 23:50:00', '2014-01-01 23:50:00'],\n",
       "              dtype='datetime64[ns]', name='datetime', length=17650780, freq=None)"
      ]
     },
     "execution_count": 147,
     "metadata": {},
     "output_type": "execute_result"
    }
   ],
   "source": [
    "aux_data.index"
   ]
  },
  {
   "cell_type": "code",
   "execution_count": 121,
   "metadata": {},
   "outputs": [],
   "source": [
    "aux_data.to_pickle(data_path + 'Trentino_drive/telecom.pkl_gz', compression='gzip')"
   ]
  }
 ],
 "metadata": {
  "kernelspec": {
   "display_name": "venv_hea",
   "language": "python",
   "name": "python3"
  },
  "language_info": {
   "codemirror_mode": {
    "name": "ipython",
    "version": 3
   },
   "file_extension": ".py",
   "mimetype": "text/x-python",
   "name": "python",
   "nbconvert_exporter": "python",
   "pygments_lexer": "ipython3",
   "version": "3.10.4"
  },
  "orig_nbformat": 4,
  "vscode": {
   "interpreter": {
    "hash": "e1dc9197fbdaf2df20a0ea77561d79844f791293e1aa1b8fac12d88bf49496cb"
   }
  }
 },
 "nbformat": 4,
 "nbformat_minor": 2
}

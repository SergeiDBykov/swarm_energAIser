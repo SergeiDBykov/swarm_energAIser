{
 "cells": [
  {
   "cell_type": "code",
   "execution_count": 1,
   "metadata": {},
   "outputs": [],
   "source": [
    "import sys\n",
    "sys.path.append('../')"
   ]
  },
  {
   "cell_type": "code",
   "execution_count": 2,
   "metadata": {},
   "outputs": [
    {
     "name": "stdout",
     "output_type": "stream",
     "text": [
      "matplotlib settings set\n"
     ]
    },
    {
     "name": "stderr",
     "output_type": "stream",
     "text": [
      "FutureWarning: In a future version, `df.iloc[:, i] = newvals` will attempt to set the values inplace instead of always setting a new array. To retain the old behavior, use either `df[df.columns[i]] = newvals` or, if columns are non-unique, `df.isetitem(i, newvals)`\n"
     ]
    }
   ],
   "source": [
    "from scripts.utils import data_path\n",
    "\n",
    "from datetime import datetime\n",
    "from meteostat import Point, Hourly # pip install meteostat\n",
    "\n",
    "import pandas as pd\n",
    "import numpy as np\n",
    "\n",
    "start = datetime(2011,1,1)\n",
    "end = datetime(2014,12,31)\n",
    "\n",
    "# London: 51.5167, -0.1167\n",
    "place = Point(51.5167, -0.1167)\n",
    "\n",
    "data = Hourly(place,start,end)\n",
    "data = data.fetch()\n",
    "\n",
    "df = pd.DataFrame(data)\n",
    "\n",
    "df.to_csv(data_path+\"/London_drive/london_weather.csv\")\n"
   ]
  }
 ],
 "metadata": {
  "kernelspec": {
   "display_name": "venv_hea",
   "language": "python",
   "name": "python3"
  },
  "language_info": {
   "codemirror_mode": {
    "name": "ipython",
    "version": 3
   },
   "file_extension": ".py",
   "mimetype": "text/x-python",
   "name": "python",
   "nbconvert_exporter": "python",
   "pygments_lexer": "ipython3",
   "version": "3.10.4"
  },
  "orig_nbformat": 4,
  "vscode": {
   "interpreter": {
    "hash": "e1dc9197fbdaf2df20a0ea77561d79844f791293e1aa1b8fac12d88bf49496cb"
   }
  }
 },
 "nbformat": 4,
 "nbformat_minor": 2
}

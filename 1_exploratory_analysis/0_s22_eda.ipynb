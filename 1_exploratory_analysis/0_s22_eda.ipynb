{
 "cells": [
  {
   "cell_type": "code",
   "execution_count": null,
   "metadata": {},
   "outputs": [],
   "source": [
    "import sys\n",
    "sys.path.append('../')"
   ]
  },
  {
   "cell_type": "code",
   "execution_count": null,
   "metadata": {},
   "outputs": [],
   "source": [
    "from scripts.utils import data_path, set_mpl\n",
    "from scripts.read_data import read_timeseries_s22, read_weather_s22\n",
    "import pandas as pd\n",
    "import numpy as np\n",
    "import matplotlib.pyplot as plt\n",
    "import seaborn as sns\n",
    "from IPython.display import display\n",
    "import h5py\n",
    "\n",
    "\n",
    "%matplotlib inline\n",
    "\n",
    "set_mpl()"
   ]
  },
  {
   "cell_type": "code",
   "execution_count": null,
   "metadata": {},
   "outputs": [],
   "source": [
    "weather = read_weather_s22()\n",
    "\n",
    "energy = read_timeseries_s22()\n"
   ]
  },
  {
   "attachments": {},
   "cell_type": "markdown",
   "metadata": {},
   "source": [
    "## examples of bad or unclear data"
   ]
  },
  {
   "cell_type": "code",
   "execution_count": null,
   "metadata": {},
   "outputs": [],
   "source": [
    "fig,  [ax1, ax2] =  plt.subplots(2, figsize = (12,12))\n",
    "\n",
    "energy[['P_TOT_3']].plot(ax = ax1, ylabel = 'Total Power, home 3')\n",
    "energy.query('index > \"2018-06-01\" & index < \"2018-06-11\"')[['P_TOT_3']].plot(ax = ax2, ylabel = 'Total Power, home 3')\n",
    "ax1.set_title('Home 3')"
   ]
  },
  {
   "cell_type": "code",
   "execution_count": null,
   "metadata": {},
   "outputs": [],
   "source": [
    "\n",
    "fig,  [ax1, ax2] =  plt.subplots(2, figsize = (12,12))\n",
    "\n",
    "energy[['P_TOT_34']].plot(ax = ax1, ylabel = 'Total Power, home 34')\n",
    "energy.query('index > \"2019-05-01\" & index < \"2019-06-01\"')[['P_TOT_34']].plot(ax = ax2, ylabel = 'Total Power, home 34')\n",
    "ax1.set_title('Home 34')\n"
   ]
  },
  {
   "attachments": {},
   "cell_type": "markdown",
   "metadata": {},
   "source": [
    "# Preprocess data and time features"
   ]
  },
  {
   "cell_type": "code",
   "execution_count": null,
   "metadata": {},
   "outputs": [],
   "source": [
    "heat_cols = [col for col in energy.columns if 'P_HEAT' in col]\n",
    "home_cols = [col for col in energy.columns if 'P_HOME' in col]\n",
    "tot_cols = [col for col in energy.columns if 'P_TOT' in col]\n",
    "\n",
    "\n",
    "#exclude May-June 2019 data for home # 34\n",
    "energy.loc['2019-05-01':'2019-06-01', ['P_HOME_34',\t'P_HEAT_34',\t'P_TOT_34',]] = np.nan\n",
    "\n",
    "\n",
    "energy['homes_num'] = energy[tot_cols].count(axis=1)\n",
    "\n",
    "energy['P_HEAT_avg'] = energy[heat_cols].sum(axis=1)/energy['homes_num']\n",
    "energy['P_HOME_avg'] = energy[home_cols].sum(axis=1)/energy['homes_num']\n",
    "energy['P_TOT_avg'] = energy[tot_cols].sum(axis=1)/energy['homes_num']\n",
    "\n",
    "#drop data before 2018-05-04\n",
    "energy = energy.query('index > \"2018-05-04\"')\n"
   ]
  },
  {
   "cell_type": "code",
   "execution_count": null,
   "metadata": {},
   "outputs": [],
   "source": [
    "\n",
    "for df in [energy, weather]:\n",
    "    df['hour'] = df.index.hour\n",
    "    df['weekday'] = df.index.weekday\n",
    "    df['month'] = df.index.month\n",
    "    df['year'] = df.index.year\n",
    "    df['doy'] = df.index.dayofyear\n",
    "\n",
    "    df['season'] = df['month'].apply(lambda x: 'winter' if x in [12, 1, 2] else 'spring' if x in [3, 4, 5] else 'summer' if x in [6, 7, 8] else 'autumn')\n",
    "    df['workday'] = df['weekday'].apply(lambda x: 'workday' if x in [0, 1, 2, 3, 4] else 'weekend')\n"
   ]
  },
  {
   "cell_type": "code",
   "execution_count": null,
   "metadata": {},
   "outputs": [],
   "source": [
    "\n",
    "def find_bad_data(house_to_exclude='34'):\n",
    "\n",
    "    fig,  [ax, ax2] =  plt.subplots(2, figsize = (12,10), sharex=True)\n",
    "\n",
    "    subset = energy.copy()\n",
    "    subset = subset.resample('1D').mean()\n",
    "\n",
    "    home_avg = subset['P_HOME_avg']\n",
    "    home_avg_w = (subset['P_HOME_avg']*subset['homes_num'] - subset[f'P_HOME_{house_to_exclude}'])/subset['homes_num']\n",
    "\n",
    "    heat_avg = subset['P_HEAT_avg']\n",
    "    heat_avg_w = (subset['P_HEAT_avg']*subset['homes_num'] - subset[f'P_HEAT_{house_to_exclude}'])/subset['homes_num']\n",
    "\n",
    "    ax.plot(subset.index, home_avg, label=f'P_HOME_avg w/ {house_to_exclude}', alpha = 0.6, lw = 1)\n",
    "    ax.plot(subset.index, home_avg_w, label='P_HOME_avg', alpha = 0.6, lw = 1)\n",
    "\n",
    "    ax2.plot(subset.index,  heat_avg, label=f'P_HEAT_avg w/ {house_to_exclude}', alpha = 0.6, lw = 1)\n",
    "    ax2.plot(subset.index, heat_avg_w, label='P_HEAT_avg', alpha = 0.6, lw = 1)\n",
    "\n",
    "    ax.legend(loc = 'lower right')\n",
    "    ax2.legend(loc = 'upper right')\n",
    "\n",
    "    ax.set_xlabel('Time')\n",
    "    ax.set_ylabel('Power [kW]')\n",
    "\n",
    "\n",
    "    strange_idxs = abs(home_avg - home_avg_w) > 50\n",
    "    strange_idxs = strange_idxs[strange_idxs].index\n",
    "\n",
    "    for idx in strange_idxs:\n",
    "        ax.axvline(idx, color = 'r', alpha = 0.1)\n",
    "\n",
    "    strange_idxs = abs(heat_avg - heat_avg_w) > 200\n",
    "    strange_idxs = strange_idxs[strange_idxs].index\n",
    "\n",
    "    for idx in strange_idxs:\n",
    "        ax2.axvline(idx, color = 'r', alpha = 0.1)\n",
    "\n",
    "#find_bad_data('35') #bad at before turning off\n",
    "#find_bad_data('20') #lower then average\n",
    "#find_bad_data('19') #generally lower then average>\n",
    "#find_bad_data('13') #1 week?\n",
    "#find_bad_data('8') #1 week?\n",
    "#find_bad_data('6') #1 day?\n",
    "#find_bad_data('34')"
   ]
  },
  {
   "cell_type": "code",
   "execution_count": null,
   "metadata": {},
   "outputs": [],
   "source": [
    "fig,  ax =  plt.subplots( figsize = (15,8))\n",
    "ax2 = ax.twinx()\n",
    "ax2.grid(False)\n",
    "query = 'year == 2020 and month in [12] and doy>350'\n",
    "subset = energy.query(query)\n",
    "subset_weather = weather.query(query)\n",
    "#ax.plot(subset.index, subset['P_substation'], label='P_substation')\n",
    "ax.plot(subset.index, subset['P_HEAT_avg'], label='P_HEAT_avg', alpha = 0.7)\n",
    "ax.plot(subset.index, subset['P_HOME_avg'], label='P_HOME_avg', alpha = 0.7)\n",
    "ax2.plot(subset_weather.index, subset_weather['WEATHER_T'], label='WEATHER_T', color='k', lw = 0.5, alpha=0.5)\n",
    "\n",
    "ax.legend(loc = 'upper right')\n",
    "ax2.legend(loc = 'upper left')\n",
    "\n",
    "ax.set_xlabel('Time')\n",
    "ax.set_ylabel('Power [kW]')\n",
    "ax2.set_ylabel('Temperature [°C]')\n",
    "\n",
    "\n",
    "fig,  ax_t =  plt.subplots( figsize = (6,6))\n",
    "\n",
    "sns.scatterplot(x=subset_weather['WEATHER_T'], y=subset['P_HEAT_avg'], hue = subset['hour'], alpha=0.5, ax = ax_t)\n",
    "\n",
    "my_model_heat_temp = lambda T: 0.4e3 - 0.6e3/10*(T-10)\n",
    "\n",
    "#xaxis = np.linspace(-2.5, 15, 20)\n",
    "#ax_t.plot(xaxis, my_model_heat_temp(xaxis), color='r', lw = 2)\n",
    "#ax.plot(subset.index, my_model_heat_temp(subset_weather['WEATHER_T']), label='my_model_heat_temp', color='m', lw = 2, alpha = 0.3)\n"
   ]
  },
  {
   "cell_type": "code",
   "execution_count": null,
   "metadata": {},
   "outputs": [],
   "source": [
    "fig,  ax =  plt.subplots( figsize = (15,8))\n",
    "ax2 = ax.twinx()\n",
    "ax2.grid(False)\n",
    "#query = 'year == 2019 and month == 12 and doy>356'\n",
    "query = 'year == 2019 and month in [5,6,7,8]'\n",
    "subset = energy.query(query)\n",
    "subset_weather = weather.query(query)\n",
    "#ax.plot(subset.index, subset['P_substation'], label='P_substation')\n",
    "ax.plot(subset.index, subset['P_HEAT_avg'], label='P_HEAT_avg')\n",
    "ax.plot(subset.index, subset['P_HOME_avg'], label='P_HOME_avg')\n",
    "ax2.plot(subset_weather.index, subset_weather['WEATHER_T'], label='WEATHER_T', color='k', lw = 0.5, alpha=0.5)\n",
    "\n",
    "ax.legend(loc = 'upper right')\n",
    "ax2.legend(loc = 'upper left')\n",
    "\n",
    "ax.set_xlabel('Time')\n",
    "ax.set_ylabel('Power [kW]')\n",
    "ax2.set_ylabel('Temperature [°C]')\n",
    "\n",
    "\n",
    "fig,  ax =  plt.subplots( figsize = (6,6))\n",
    "\n",
    "sns.scatterplot(x=subset_weather['WEATHER_T'], y=subset['P_HEAT_avg'], hue = subset['hour'], alpha=0.5, ax = ax)"
   ]
  }
 ],
 "metadata": {
  "kernelspec": {
   "display_name": "base",
   "language": "python",
   "name": "python3"
  },
  "language_info": {
   "codemirror_mode": {
    "name": "ipython",
    "version": 3
   },
   "file_extension": ".py",
   "mimetype": "text/x-python",
   "name": "python",
   "nbconvert_exporter": "python",
   "pygments_lexer": "ipython3",
   "version": "3.10.8"
  },
  "orig_nbformat": 4,
  "vscode": {
   "interpreter": {
    "hash": "e315b2944fcd06964f141e452ede41c0dab99391f5959521c88ef6b6c8ccb752"
   }
  }
 },
 "nbformat": 4,
 "nbformat_minor": 2
}

{
 "cells": [
  {
   "cell_type": "code",
   "execution_count": 11,
   "metadata": {},
   "outputs": [],
   "source": [
    "from pytrends.request import TrendReq\n",
    "\n",
    "pytrends = TrendReq(hl='en-US', tz=360)\n"
   ]
  },
  {
   "cell_type": "code",
   "execution_count": 12,
   "metadata": {},
   "outputs": [
    {
     "ename": "NotImplementedError",
     "evalue": "This method has been removed for incorrectness. It will be removed completely in v5.\nIf you'd like similar functionality, please try implementing it yourself and consider submitting a pull request to add it to pytrends.\n          \nThere is discussion at:\nhttps://github.com/GeneralMills/pytrends/pull/542",
     "output_type": "error",
     "traceback": [
      "\u001b[0;31m---------------------------------------------------------------------------\u001b[0m",
      "\u001b[0;31mNotImplementedError\u001b[0m                       Traceback (most recent call last)",
      "\u001b[1;32m/Users/sdbykov/not_work/swarm_energAIser/1_exploratory_analysis/0_pytrends_test.ipynb Cell 2\u001b[0m in \u001b[0;36m<cell line: 5>\u001b[0;34m()\u001b[0m\n\u001b[1;32m      <a href='vscode-notebook-cell:/Users/sdbykov/not_work/swarm_energAIser/1_exploratory_analysis/0_pytrends_test.ipynb#W1sZmlsZQ%3D%3D?line=0'>1</a>\u001b[0m kw_list \u001b[39m=\u001b[39m [\u001b[39m\"\u001b[39m\u001b[39mFootball\u001b[39m\u001b[39m\"\u001b[39m, \u001b[39m\"\u001b[39m\u001b[39mSoccer\u001b[39m\u001b[39m\"\u001b[39m]\n\u001b[1;32m      <a href='vscode-notebook-cell:/Users/sdbykov/not_work/swarm_energAIser/1_exploratory_analysis/0_pytrends_test.ipynb#W1sZmlsZQ%3D%3D?line=3'>4</a>\u001b[0m \u001b[39m#pytrends.build_payload(kw_list, cat=0, timeframe='2018-01-01 2020-12-31', geo='DE', gprop='')\u001b[39;00m\n\u001b[0;32m----> <a href='vscode-notebook-cell:/Users/sdbykov/not_work/swarm_energAIser/1_exploratory_analysis/0_pytrends_test.ipynb#W1sZmlsZQ%3D%3D?line=4'>5</a>\u001b[0m pytrends\u001b[39m.\u001b[39;49mget_historical_interest(kw_list, year_start\u001b[39m=\u001b[39;49m\u001b[39m2018\u001b[39;49m, month_start\u001b[39m=\u001b[39;49m\u001b[39m1\u001b[39;49m, day_start\u001b[39m=\u001b[39;49m\u001b[39m1\u001b[39;49m, hour_start\u001b[39m=\u001b[39;49m\u001b[39m0\u001b[39;49m, year_end\u001b[39m=\u001b[39;49m\u001b[39m2020\u001b[39;49m, month_end\u001b[39m=\u001b[39;49m\u001b[39m12\u001b[39;49m, day_end\u001b[39m=\u001b[39;49m\u001b[39m31\u001b[39;49m, hour_end\u001b[39m=\u001b[39;49m\u001b[39m23\u001b[39;49m, cat\u001b[39m=\u001b[39;49m\u001b[39m0\u001b[39;49m, geo\u001b[39m=\u001b[39;49m\u001b[39m'\u001b[39;49m\u001b[39m'\u001b[39;49m, gprop\u001b[39m=\u001b[39;49m\u001b[39m'\u001b[39;49m\u001b[39m'\u001b[39;49m, sleep\u001b[39m=\u001b[39;49m\u001b[39m0\u001b[39;49m)\n\u001b[1;32m      <a href='vscode-notebook-cell:/Users/sdbykov/not_work/swarm_energAIser/1_exploratory_analysis/0_pytrends_test.ipynb#W1sZmlsZQ%3D%3D?line=6'>7</a>\u001b[0m \u001b[39m#pytrends.interest_by_region(resolution='CITY', inc_low_vol=True, inc_geo_code=False)\u001b[39;00m\n",
      "File \u001b[0;32m~/opt/miniconda3/envs/venv_hea/lib/python3.10/site-packages/pytrends/request.py:588\u001b[0m, in \u001b[0;36mTrendReq.get_historical_interest\u001b[0;34m(self, *args, **kwargs)\u001b[0m\n\u001b[1;32m    587\u001b[0m     \u001b[39mdef\u001b[39;00m \u001b[39mget_historical_interest\u001b[39m(\u001b[39mself\u001b[39m, \u001b[39m*\u001b[39margs, \u001b[39m*\u001b[39m\u001b[39m*\u001b[39mkwargs):\n\u001b[0;32m--> 588\u001b[0m         \u001b[39mraise\u001b[39;00m \u001b[39mNotImplementedError\u001b[39;00m(\n\u001b[1;32m    589\u001b[0m             \u001b[39m\"\"\"This method has been removed for incorrectness. It will be removed completely in v5.\u001b[39;00m\n\u001b[1;32m    590\u001b[0m \u001b[39mIf you'd like similar functionality, please try implementing it yourself and consider submitting a pull request to add it to pytrends.\u001b[39;00m\n\u001b[1;32m    591\u001b[0m \u001b[39m          \u001b[39;00m\n\u001b[1;32m    592\u001b[0m \u001b[39mThere is discussion at:\u001b[39;00m\n\u001b[1;32m    593\u001b[0m \u001b[39mhttps://github.com/GeneralMills/pytrends/pull/542\"\"\"\u001b[39;00m\n\u001b[1;32m    594\u001b[0m         )\n",
      "\u001b[0;31mNotImplementedError\u001b[0m: This method has been removed for incorrectness. It will be removed completely in v5.\nIf you'd like similar functionality, please try implementing it yourself and consider submitting a pull request to add it to pytrends.\n          \nThere is discussion at:\nhttps://github.com/GeneralMills/pytrends/pull/542"
     ]
    }
   ],
   "source": [
    "kw_list = [\"Football\", \"Soccer\"]\n",
    "\n",
    "\n",
    "#pytrends.build_payload(kw_list, cat=0, timeframe='2018-01-01 2020-12-31', geo='DE', gprop='')\n",
    "#pytrends.get_historical_interest(kw_list, year_start=2018, month_start=1, day_start=1, hour_start=0, year_end=2020, month_end=12, day_end=31, hour_end=23, cat=0, #geo='', gprop='', sleep=0)\n",
    "\n",
    "#pytrends.interest_by_region(resolution='CITY', inc_low_vol=True, inc_geo_code=False)"
   ]
  }
 ],
 "metadata": {
  "kernelspec": {
   "display_name": "venv_hea",
   "language": "python",
   "name": "python3"
  },
  "language_info": {
   "codemirror_mode": {
    "name": "ipython",
    "version": 3
   },
   "file_extension": ".py",
   "mimetype": "text/x-python",
   "name": "python",
   "nbconvert_exporter": "python",
   "pygments_lexer": "ipython3",
   "version": "3.10.4 | packaged by conda-forge | (main, Mar 24 2022, 17:45:10) [Clang 12.0.1 ]"
  },
  "orig_nbformat": 4,
  "vscode": {
   "interpreter": {
    "hash": "e1dc9197fbdaf2df20a0ea77561d79844f791293e1aa1b8fac12d88bf49496cb"
   }
  }
 },
 "nbformat": 4,
 "nbformat_minor": 2
}

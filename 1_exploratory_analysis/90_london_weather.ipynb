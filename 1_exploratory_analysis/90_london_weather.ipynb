{
 "cells": [
  {
   "cell_type": "code",
   "execution_count": 8,
   "metadata": {},
   "outputs": [],
   "source": [
    "from datetime import datetime\n",
    "from meteostat import Point, Hourly\n",
    "\n",
    "import pandas as pd\n",
    "import numpy as np\n",
    "\n",
    "start = datetime(2011,1,1)\n",
    "end = datetime(2014,12,31)\n",
    "\n",
    "# London: 51.5167, -0.1167\n",
    "place = Point(51.5167, -0.1167)\n",
    "\n",
    "data = Hourly(place,start,end)\n",
    "data = data.fetch()\n",
    "\n",
    "df = pd.DataFrame(data)\n",
    "\n",
    "df.to_csv(\"90_london_weather.csv\")\n"
   ]
  }
 ],
 "metadata": {
  "kernelspec": {
   "display_name": "Python 3",
   "language": "python",
   "name": "python3"
  },
  "language_info": {
   "codemirror_mode": {
    "name": "ipython",
    "version": 3
   },
   "file_extension": ".py",
   "mimetype": "text/x-python",
   "name": "python",
   "nbconvert_exporter": "python",
   "pygments_lexer": "ipython3",
   "version": "3.11.1"
  },
  "orig_nbformat": 4,
  "vscode": {
   "interpreter": {
    "hash": "021b270df042668779937dfcedbeeec779d5c36d81df7982949657c3e1763249"
   }
  }
 },
 "nbformat": 4,
 "nbformat_minor": 2
}

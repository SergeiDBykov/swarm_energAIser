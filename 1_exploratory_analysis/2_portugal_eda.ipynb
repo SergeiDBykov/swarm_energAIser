{
 "cells": [
  {
   "cell_type": "code",
   "execution_count": 2,
   "metadata": {},
   "outputs": [],
   "source": [
    "import numpy as np\n",
    "import matplotlib.pyplot as plt\n",
    "import pandas as pd\n",
    "import seaborn as sns\n",
    "from pandas import DataFrame\n",
    "import datetime\n",
    "import csv\n",
    "import matplotlib.dates as mdates\n",
    "import time\n",
    "\n",
    "\n",
    "\n",
    "%matplotlib inline"
   ]
  },
  {
   "cell_type": "code",
   "execution_count": 3,
   "metadata": {},
   "outputs": [],
   "source": [
    "def dataset(name):\n",
    "    df = pd.read_csv(''+str(name)+'.txt', sep=';', skiprows=1, low_memory=False)\n",
    "    return df    "
   ]
  },
  {
   "cell_type": "code",
   "execution_count": 4,
   "metadata": {},
   "outputs": [],
   "source": [
    "df = dataset('LD2011_2014')\n",
    "label = ['house_'+str(i) for i in range(371)] \n",
    "df.columns = label\n",
    "df.rename(columns = {'house_0':'date'}, inplace = True)"
   ]
  },
  {
   "cell_type": "code",
   "execution_count": 5,
   "metadata": {},
   "outputs": [],
   "source": [
    "df['date'] = pd.to_datetime(df['date'].astype(str), format='%Y-%m-%d %H:%M:%S.%f')\n",
    "df.set_index('date', inplace=True)"
   ]
  },
  {
   "cell_type": "code",
   "execution_count": null,
   "metadata": {},
   "outputs": [],
   "source": [
    "# fig,ax = plt.subplots(1,1,figsize=(10,5), sharex=True)\n",
    "# ax.xaxis.set_tick_params(direction='in',which='both',width=1,length=5,size=5)\n",
    "# plt.scatter(df['datetime'],df['house_1'])\n",
    "# plt.show()"
   ]
  },
  {
   "cell_type": "code",
   "execution_count": null,
   "metadata": {},
   "outputs": [],
   "source": []
  }
 ],
 "metadata": {
  "kernelspec": {
   "display_name": "base",
   "language": "python",
   "name": "python3"
  },
  "language_info": {
   "codemirror_mode": {
    "name": "ipython",
    "version": 3
   },
   "file_extension": ".py",
   "mimetype": "text/x-python",
   "name": "python",
   "nbconvert_exporter": "python",
   "pygments_lexer": "ipython3",
   "version": "3.10.8"
  },
  "orig_nbformat": 4,
  "vscode": {
   "interpreter": {
    "hash": "e315b2944fcd06964f141e452ede41c0dab99391f5959521c88ef6b6c8ccb752"
   }
  }
 },
 "nbformat": 4,
 "nbformat_minor": 2
}

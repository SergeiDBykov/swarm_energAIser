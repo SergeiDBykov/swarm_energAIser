{
 "cells": [
  {
   "cell_type": "code",
   "execution_count": 1,
   "id": "0b12a666",
   "metadata": {},
   "outputs": [],
   "source": [
    "import sys\n",
    "sys.path.append('../../')"
   ]
  },
  {
   "cell_type": "code",
   "execution_count": 5,
   "id": "c5838533",
   "metadata": {},
   "outputs": [
    {
     "name": "stdout",
     "output_type": "stream",
     "text": [
      "matplotlib settings set\n",
      "\n",
      "    Loading Hamelin data from ../../0_data/.\n",
      "    Houses number removed: 6, 17, 24, 25. \n",
      "    Houses with PV: ['13', '15', '26', '33'] \n",
      "    HOUSEHOLD and HEATPUMP energy consumption are separated. \n",
      "    Resolution: 60min \n",
      "\n",
      "    May-June 2019 data for home #34 excluded \n",
      "    Data before 2018-05-18 excluded (gaps)\n",
      "    Data with zero difference between consecutive values dropped (malfunction)\n",
      "\n",
      "    reutrns:\n",
      "    df_energy: pd.DataFrame with energy consumption data\n",
      "    df_weather: pd.DataFrame with weather data\n",
      "    df_metadata: pd.DataFrame with metadata\n",
      "    df_twitter: pd.DataFrame with twitter data\n",
      "    df_trends: pd.DataFrame with trends data\n",
      "\n",
      "    \n"
     ]
    }
   ],
   "source": [
    "import pandas as pd\n",
    "import numpy as np\n",
    "import seaborn as sns\n",
    "import matplotlib.pyplot as plt\n",
    "%matplotlib widget\n",
    "\n",
    "from scripts.utils import data_path, set_mpl, read_hamelin\n",
    "set_mpl()\n",
    "\n",
    "\n",
    "\n",
    "energy, weather, metadata, twitter, trends = read_hamelin()\n"
   ]
  }
 ],
 "metadata": {
  "kernelspec": {
   "display_name": "Python 3 (ipykernel)",
   "language": "python",
   "name": "python3"
  },
  "language_info": {
   "codemirror_mode": {
    "name": "ipython",
    "version": 3
   },
   "file_extension": ".py",
   "mimetype": "text/x-python",
   "name": "python",
   "nbconvert_exporter": "python",
   "pygments_lexer": "ipython3",
   "version": "3.10.9"
  },
  "vscode": {
   "interpreter": {
    "hash": "e1dc9197fbdaf2df20a0ea77561d79844f791293e1aa1b8fac12d88bf49496cb"
   }
  }
 },
 "nbformat": 4,
 "nbformat_minor": 5
}
